{
 "cells": [
  {
   "cell_type": "code",
   "execution_count": 1,
   "metadata": {},
   "outputs": [],
   "source": [
    "# The goal of this notebook is to analyze the results for the sensitivity analysis carried out for seven winter days.\n",
    "# This notebooks include the usage of several tools: \n",
    "#    -   Correlation among different input variables and savings\n",
    "#    -   Evaluation of savings regarding the efficiency and number of cars\n",
    "#    -   Principal Components Analysis to determine the main variables that explain the achieved savings \n",
    "#    -   Multivariable linear regression model that explain the achieved savings "
   ]
  },
  {
   "cell_type": "code",
   "execution_count": 2,
   "metadata": {},
   "outputs": [],
   "source": [
    "# HIGHLIGHTS\n",
    "#   - The greater the number of cars, the larger the savings\n",
    "#   - The efficiency of the charging/discharging process is a key variable in determining savings \n",
    "#     (the tested efficiencies are 90%, 95% and 99%, but only with a efficiency of 99 % \n",
    "#     the achieved savings are significant)\n",
    "#   - The maximum percentage of savings is achieved with intermediate charger power and energy storage\n",
    "#   - The maximum percentage of savings is achieved with the lowest average of initial energy (I guess that as the\n",
    "#     usage of the battery is larger, more energy can be sold (you can discharge from 100 % to around 60 %))"
   ]
  },
  {
   "cell_type": "code",
   "execution_count": 27,
   "metadata": {},
   "outputs": [],
   "source": [
    "# Libraries\n",
    "\n",
    "import pandas as pd\n",
    "import seaborn as sns\n",
    "\n",
    "#To read plot axis in Dark Reader Chrome Extension (remove if not using this mode)\n",
    "#from jupyterthemes import jtplot\n",
    "#jtplot.style(theme='monokai', context='notebook', ticks=True, grid=False)\n"
   ]
  },
  {
   "cell_type": "code",
   "execution_count": 28,
   "metadata": {},
   "outputs": [
    {
     "name": "stdout",
     "output_type": "stream",
     "text": [
      "Number of rows: 945\n"
     ]
    },
    {
     "data": {
      "text/html": [
       "<div>\n",
       "<style scoped>\n",
       "    .dataframe tbody tr th:only-of-type {\n",
       "        vertical-align: middle;\n",
       "    }\n",
       "\n",
       "    .dataframe tbody tr th {\n",
       "        vertical-align: top;\n",
       "    }\n",
       "\n",
       "    .dataframe thead th {\n",
       "        text-align: right;\n",
       "    }\n",
       "</style>\n",
       "<table border=\"1\" class=\"dataframe\">\n",
       "  <thead>\n",
       "    <tr style=\"text-align: right;\">\n",
       "      <th></th>\n",
       "      <th>num_vehicles</th>\n",
       "      <th>charger_power</th>\n",
       "      <th>energy_vehicle</th>\n",
       "      <th>efficiency</th>\n",
       "      <th>avg_initial_energy</th>\n",
       "      <th>total_savings</th>\n",
       "      <th>total_original_cost</th>\n",
       "    </tr>\n",
       "  </thead>\n",
       "  <tbody>\n",
       "    <tr>\n",
       "      <th>0</th>\n",
       "      <td>20</td>\n",
       "      <td>0.006</td>\n",
       "      <td>0.04</td>\n",
       "      <td>0.90</td>\n",
       "      <td>0.6</td>\n",
       "      <td>4.187870e-14</td>\n",
       "      <td>269.155896</td>\n",
       "    </tr>\n",
       "    <tr>\n",
       "      <th>1</th>\n",
       "      <td>20</td>\n",
       "      <td>0.006</td>\n",
       "      <td>0.04</td>\n",
       "      <td>0.90</td>\n",
       "      <td>0.7</td>\n",
       "      <td>2.960115e-14</td>\n",
       "      <td>269.155896</td>\n",
       "    </tr>\n",
       "    <tr>\n",
       "      <th>2</th>\n",
       "      <td>20</td>\n",
       "      <td>0.006</td>\n",
       "      <td>0.04</td>\n",
       "      <td>0.90</td>\n",
       "      <td>0.8</td>\n",
       "      <td>6.055245e-14</td>\n",
       "      <td>269.155896</td>\n",
       "    </tr>\n",
       "    <tr>\n",
       "      <th>3</th>\n",
       "      <td>20</td>\n",
       "      <td>0.006</td>\n",
       "      <td>0.04</td>\n",
       "      <td>0.95</td>\n",
       "      <td>0.6</td>\n",
       "      <td>6.282150e-01</td>\n",
       "      <td>269.155896</td>\n",
       "    </tr>\n",
       "    <tr>\n",
       "      <th>4</th>\n",
       "      <td>20</td>\n",
       "      <td>0.006</td>\n",
       "      <td>0.04</td>\n",
       "      <td>0.95</td>\n",
       "      <td>0.7</td>\n",
       "      <td>6.275743e-01</td>\n",
       "      <td>269.155896</td>\n",
       "    </tr>\n",
       "  </tbody>\n",
       "</table>\n",
       "</div>"
      ],
      "text/plain": [
       "   num_vehicles  charger_power  energy_vehicle  efficiency  \\\n",
       "0            20          0.006            0.04        0.90   \n",
       "1            20          0.006            0.04        0.90   \n",
       "2            20          0.006            0.04        0.90   \n",
       "3            20          0.006            0.04        0.95   \n",
       "4            20          0.006            0.04        0.95   \n",
       "\n",
       "   avg_initial_energy  total_savings  total_original_cost  \n",
       "0                 0.6   4.187870e-14           269.155896  \n",
       "1                 0.7   2.960115e-14           269.155896  \n",
       "2                 0.8   6.055245e-14           269.155896  \n",
       "3                 0.6   6.282150e-01           269.155896  \n",
       "4                 0.7   6.275743e-01           269.155896  "
      ]
     },
     "execution_count": 28,
     "metadata": {},
     "output_type": "execute_result"
    }
   ],
   "source": [
    "#Getting the data from the sensitivity analysis\n",
    "\n",
    "# The columns in the dataframe are: \n",
    "\n",
    "# Number of vehicles || EV charger power (MW) || Energy storage of the vehicle (MWh) || Efficiency of dis/charging\n",
    "# Average initial energy of the vehicles # Total savings with storage ($) || Original cost without storage ($)\n",
    "\n",
    "data = pd.read_pickle(\"./results_97.pkl\")\n",
    "#data = data[0:405]\n",
    "\n",
    "print(\"Number of rows: \" + str(len(data)))\n",
    "\n",
    "# Preview\n",
    "data.head()\n"
   ]
  },
  {
   "cell_type": "code",
   "execution_count": 29,
   "metadata": {},
   "outputs": [],
   "source": [
    "# #Size of the storage\n",
    "# num_vehicles = [20, 40, 60, 80, 100, 120, 140, 160, 180, 200]\n",
    "\n",
    "# #Battery specifications\n",
    "# charger_power = [0.006, 0.0072, 0.0008] #MW\n",
    "# energy_vehicle = [0.040, 0.064, 0.080] #MWh\n",
    "# eff = [0.9, 0.95, 0.97] #eficiency \n",
    "# avg_initial_energy = [0.6, 0.7, 0.8]\n",
    "\n",
    "\n",
    "\n",
    "# df_test_combinations = pd.DataFrame(columns = ['num_vehicles','charger_power','energy_vehicle', \n",
    "#                                                'eff', 'avg_initial_energy', 'done'])\n",
    "\n",
    "# for n in num_vehicles: \n",
    "#     for c in charger_power: \n",
    "#         for e in energy_vehicle: \n",
    "#             for ef in eff: \n",
    "#                 for i in avg_initial_energy: \n",
    "\n",
    "                    \n",
    "#                     df_new_row = pd.DataFrame([[n,c,e,ef,i,0]],columns = ['num_vehicles','charger_power',\n",
    "#                                                                           'energy_vehicle','eff', 'avg_initial_energy', 'done'])\n",
    "#                     df_test_combinations = df_test_combinations.append(df_new_row, ignore_index=True)\n",
    "\n"
   ]
  },
  {
   "cell_type": "code",
   "execution_count": 30,
   "metadata": {},
   "outputs": [],
   "source": [
    "# hola = pd.concat([df_test_combinations.iloc[0:len(data),0:5],data.iloc[:,5:7]], axis=1)\n",
    "# hola = hola[0:810] \n",
    "# data = hola\n",
    "# hola"
   ]
  },
  {
   "cell_type": "code",
   "execution_count": 31,
   "metadata": {},
   "outputs": [
    {
     "data": {
      "text/html": [
       "<div>\n",
       "<style scoped>\n",
       "    .dataframe tbody tr th:only-of-type {\n",
       "        vertical-align: middle;\n",
       "    }\n",
       "\n",
       "    .dataframe tbody tr th {\n",
       "        vertical-align: top;\n",
       "    }\n",
       "\n",
       "    .dataframe thead th {\n",
       "        text-align: right;\n",
       "    }\n",
       "</style>\n",
       "<table border=\"1\" class=\"dataframe\">\n",
       "  <thead>\n",
       "    <tr style=\"text-align: right;\">\n",
       "      <th></th>\n",
       "      <th>num_vehicles</th>\n",
       "      <th>charger_power</th>\n",
       "      <th>energy_vehicle</th>\n",
       "      <th>efficiency</th>\n",
       "      <th>avg_initial_energy</th>\n",
       "      <th>total_savings</th>\n",
       "      <th>total_original_cost</th>\n",
       "    </tr>\n",
       "  </thead>\n",
       "  <tbody>\n",
       "    <tr>\n",
       "      <th>num_vehicles</th>\n",
       "      <td>1.000000e+00</td>\n",
       "      <td>-9.355400e-03</td>\n",
       "      <td>-7.587821e-03</td>\n",
       "      <td>-7.447734e-04</td>\n",
       "      <td>-8.951062e-04</td>\n",
       "      <td>1.853418e-01</td>\n",
       "      <td>6.595785e-15</td>\n",
       "    </tr>\n",
       "    <tr>\n",
       "      <th>charger_power</th>\n",
       "      <td>-9.355400e-03</td>\n",
       "      <td>1.000000e+00</td>\n",
       "      <td>4.707388e-03</td>\n",
       "      <td>4.620479e-04</td>\n",
       "      <td>5.553125e-04</td>\n",
       "      <td>2.189707e-01</td>\n",
       "      <td>8.056201e-15</td>\n",
       "    </tr>\n",
       "    <tr>\n",
       "      <th>energy_vehicle</th>\n",
       "      <td>-7.587821e-03</td>\n",
       "      <td>4.707388e-03</td>\n",
       "      <td>1.000000e+00</td>\n",
       "      <td>4.741567e-19</td>\n",
       "      <td>2.395805e-17</td>\n",
       "      <td>4.366585e-02</td>\n",
       "      <td>3.886760e-14</td>\n",
       "    </tr>\n",
       "    <tr>\n",
       "      <th>efficiency</th>\n",
       "      <td>-7.447734e-04</td>\n",
       "      <td>4.620479e-04</td>\n",
       "      <td>4.741567e-19</td>\n",
       "      <td>1.000000e+00</td>\n",
       "      <td>5.422211e-19</td>\n",
       "      <td>5.899175e-01</td>\n",
       "      <td>-2.136844e-13</td>\n",
       "    </tr>\n",
       "    <tr>\n",
       "      <th>avg_initial_energy</th>\n",
       "      <td>-8.951062e-04</td>\n",
       "      <td>5.553125e-04</td>\n",
       "      <td>2.395805e-17</td>\n",
       "      <td>5.422211e-19</td>\n",
       "      <td>1.000000e+00</td>\n",
       "      <td>-1.914447e-01</td>\n",
       "      <td>-4.983794e-14</td>\n",
       "    </tr>\n",
       "    <tr>\n",
       "      <th>total_savings</th>\n",
       "      <td>1.853418e-01</td>\n",
       "      <td>2.189707e-01</td>\n",
       "      <td>4.366585e-02</td>\n",
       "      <td>5.899175e-01</td>\n",
       "      <td>-1.914447e-01</td>\n",
       "      <td>1.000000e+00</td>\n",
       "      <td>-1.340617e-16</td>\n",
       "    </tr>\n",
       "    <tr>\n",
       "      <th>total_original_cost</th>\n",
       "      <td>6.595785e-15</td>\n",
       "      <td>8.056201e-15</td>\n",
       "      <td>3.886760e-14</td>\n",
       "      <td>-2.136844e-13</td>\n",
       "      <td>-4.983794e-14</td>\n",
       "      <td>-1.340617e-16</td>\n",
       "      <td>1.000000e+00</td>\n",
       "    </tr>\n",
       "  </tbody>\n",
       "</table>\n",
       "</div>"
      ],
      "text/plain": [
       "                     num_vehicles  charger_power  energy_vehicle  \\\n",
       "num_vehicles         1.000000e+00  -9.355400e-03   -7.587821e-03   \n",
       "charger_power       -9.355400e-03   1.000000e+00    4.707388e-03   \n",
       "energy_vehicle      -7.587821e-03   4.707388e-03    1.000000e+00   \n",
       "efficiency          -7.447734e-04   4.620479e-04    4.741567e-19   \n",
       "avg_initial_energy  -8.951062e-04   5.553125e-04    2.395805e-17   \n",
       "total_savings        1.853418e-01   2.189707e-01    4.366585e-02   \n",
       "total_original_cost  6.595785e-15   8.056201e-15    3.886760e-14   \n",
       "\n",
       "                       efficiency  avg_initial_energy  total_savings  \\\n",
       "num_vehicles        -7.447734e-04       -8.951062e-04   1.853418e-01   \n",
       "charger_power        4.620479e-04        5.553125e-04   2.189707e-01   \n",
       "energy_vehicle       4.741567e-19        2.395805e-17   4.366585e-02   \n",
       "efficiency           1.000000e+00        5.422211e-19   5.899175e-01   \n",
       "avg_initial_energy   5.422211e-19        1.000000e+00  -1.914447e-01   \n",
       "total_savings        5.899175e-01       -1.914447e-01   1.000000e+00   \n",
       "total_original_cost -2.136844e-13       -4.983794e-14  -1.340617e-16   \n",
       "\n",
       "                     total_original_cost  \n",
       "num_vehicles                6.595785e-15  \n",
       "charger_power               8.056201e-15  \n",
       "energy_vehicle              3.886760e-14  \n",
       "efficiency                 -2.136844e-13  \n",
       "avg_initial_energy         -4.983794e-14  \n",
       "total_savings              -1.340617e-16  \n",
       "total_original_cost         1.000000e+00  "
      ]
     },
     "execution_count": 31,
     "metadata": {},
     "output_type": "execute_result"
    }
   ],
   "source": [
    "# Correlation matrix among different columns\n",
    "\n",
    "correlation_df = data.corr()\n",
    "correlation_df"
   ]
  },
  {
   "cell_type": "code",
   "execution_count": 32,
   "metadata": {},
   "outputs": [
    {
     "data": {
      "image/png": "[encoded data removed]",
      "text/plain": [
       "<Figure size 432x288 with 2 Axes>"
      ]
     },
     "metadata": {
      "needs_background": "light"
     },
     "output_type": "display_data"
    }
   ],
   "source": [
    "#Plotting the correlation among the different variables\n",
    "\n",
    "corr = data.corr()\n",
    "ax = sns.heatmap(\n",
    "    corr, \n",
    "    vmin=-1, vmax=1, center=0,\n",
    "    cmap=sns.diverging_palette(20, 220, n=200),\n",
    "    square=True\n",
    ")\n",
    "ax.set_xticklabels(\n",
    "    ax.get_xticklabels(),\n",
    "    rotation=45,\n",
    "    horizontalalignment='right'\n",
    ");\n",
    "\n",
    "#ax.set_title(\"Correlation matrix plot\")"
   ]
  },
  {
   "cell_type": "code",
   "execution_count": 23,
   "metadata": {},
   "outputs": [
    {
     "data": {
      "text/plain": [
       "num_vehicles           200.000000\n",
       "charger_power            0.007200\n",
       "energy_vehicle           0.080000\n",
       "efficiency               0.970000\n",
       "avg_initial_energy       0.600000\n",
       "total_savings           33.838771\n",
       "total_original_cost    269.155896\n",
       "percentage_savings      12.572183\n",
       "Name: 780, dtype: float64"
      ]
     },
     "execution_count": 23,
     "metadata": {},
     "output_type": "execute_result"
    }
   ],
   "source": [
    "#Addition of a new column to the results dataframe that shows the percentage of savings in each combination \n",
    "\n",
    "data['percentage_savings'] = data['total_savings']/data['total_original_cost']*100\n",
    "\n",
    "# Looking for the combination with maximum percentage of savings\n",
    "\n",
    "index_maxValue = data['percentage_savings'].idxmax()\n",
    "maxValue = data['percentage_savings'].max() \n",
    "\n",
    "data.iloc[index_maxValue,:]"
   ]
  },
  {
   "cell_type": "code",
   "execution_count": 24,
   "metadata": {},
   "outputs": [],
   "source": [
    "data[\"num_vehicles\"] = data.num_vehicles.astype(float)\n",
    "data = data.rename({'eff': 'efficiency'}, axis='columns')"
   ]
  },
  {
   "cell_type": "code",
   "execution_count": 25,
   "metadata": {},
   "outputs": [
    {
     "data": {
      "text/plain": [
       "<seaborn.axisgrid.FacetGrid at 0x7fa0e09340b8>"
      ]
     },
     "execution_count": 25,
     "metadata": {},
     "output_type": "execute_result"
    },
    {
     "data": {
      "image/png": "[encoded data removed]",
      "text/plain": [
       "<Figure size 418.25x360 with 1 Axes>"
      ]
     },
     "metadata": {
      "needs_background": "light"
     },
     "output_type": "display_data"
    }
   ],
   "source": [
    "# Graph that shows the savings for each combination, dividing them in three main groups regarding efficincy \n",
    "# Note that efficiency seems to be one of the most relevant factor as it has a larger correlation with savings\n",
    "\n",
    "graph_efficiency = sns.lmplot(x=\"num_vehicles\", y=\"percentage_savings\", hue=\"efficiency\",height=5, data=data)\n",
    "\n",
    "#graph_efficiency = sns.lmplot(x=\"num_vehicles\", y=\"percentage_savings\", hue=\"eff\",height=5, data=data)\n",
    "\n",
    "# Use more informative axis labels than are provided by default\n",
    "graph_efficiency.set_axis_labels(\"Number of vehicles\", \"Savings (%)\")"
   ]
  },
  {
   "cell_type": "code",
   "execution_count": 12,
   "metadata": {},
   "outputs": [],
   "source": [
    "# PRINCIPAL COMPONENTS ANALYSIS\n",
    "\n",
    "\n",
    "from sklearn.preprocessing import StandardScaler\n",
    "\n",
    "\n",
    "features = ['num_vehicles', 'charger_power', 'energy_vehicle', 'efficiency', 'avg_initial_energy']\n",
    "\n",
    "target = ['percentage_savings']\n",
    "\n",
    "# Separating out the features\n",
    "x = data.loc[:, features].values\n",
    "# Separating out the target\n",
    "y = data.loc[:,target].values\n",
    "# Standardizing the features\n",
    "x = StandardScaler().fit_transform(x)\n",
    "\n",
    "\n",
    "from sklearn.decomposition import PCA\n",
    "\n",
    "pca = PCA(n_components=2)\n",
    "principalComponents = pca.fit_transform(x)\n",
    "principalDf = pd.DataFrame(data = principalComponents,columns = ['principal component 1', 'principal component 2'])\n",
    "\n",
    "finalDf = pd.concat([principalDf, data.loc[:,target]], axis = 1)\n"
   ]
  },
  {
   "cell_type": "code",
   "execution_count": 13,
   "metadata": {},
   "outputs": [
    {
     "data": {
      "image/png": "[encoded data removed]",
      "text/plain": [
       "<Figure size 576x576 with 2 Axes>"
      ]
     },
     "metadata": {
      "needs_background": "light"
     },
     "output_type": "display_data"
    }
   ],
   "source": [
    "import matplotlib.pyplot as plt\n",
    "\n",
    "fig = plt.figure(figsize = (8,8))\n",
    "ax = fig.add_subplot(1,1,1) \n",
    "ax.set_xlabel('Principal Component 1', fontsize = 15)\n",
    "ax.set_ylabel('Principal Component 2', fontsize = 15)\n",
    "ax.set_title('2 component PCA', fontsize = 20)\n",
    "\n",
    "x = finalDf['principal component 1']\n",
    "y = finalDf['principal component 2']\n",
    "\n",
    "plt.scatter(x, y,c=finalDf['percentage_savings'], cmap=plt.cm.autumn)\n",
    "\n",
    "plt.colorbar()\n",
    "\n",
    "ax.grid()"
   ]
  },
  {
   "cell_type": "code",
   "execution_count": 14,
   "metadata": {},
   "outputs": [
    {
     "name": "stdout",
     "output_type": "stream",
     "text": [
      "Variance explained: 40.000000000000014 %\n",
      "[[0.         0.02565617 0.00555065 0.99959377 0.0111013 ]\n",
      " [0.         0.         0.89442719 0.         0.4472136 ]]\n"
     ]
    }
   ],
   "source": [
    "# Evaluation of the PCA analysis\n",
    "# References: https://stackoverflow.com/questions/50796024/feature-variable-importance-after-a-pca-analysis\n",
    "\n",
    "pca.explained_variance_ratio_\n",
    "\n",
    "#Variance explained\n",
    "print(\"Variance explained: \" + str(sum(pca.explained_variance_ratio_)*100) +\" %\")\n",
    "\n",
    "# Most relevant variables\n",
    "print(abs( pca.components_))\n",
    "\n",
    "# It seems that for PC1, the main variables are \"num_vehicles\" and \"charger_power,\"\n",
    "# For PC2, the main variables are \"energy_vehicle\" and \"efficiency\"\n"
   ]
  },
  {
   "cell_type": "code",
   "execution_count": 15,
   "metadata": {},
   "outputs": [
    {
     "data": {
      "text/html": [
       "<div>\n",
       "<style scoped>\n",
       "    .dataframe tbody tr th:only-of-type {\n",
       "        vertical-align: middle;\n",
       "    }\n",
       "\n",
       "    .dataframe tbody tr th {\n",
       "        vertical-align: top;\n",
       "    }\n",
       "\n",
       "    .dataframe thead th {\n",
       "        text-align: right;\n",
       "    }\n",
       "</style>\n",
       "<table border=\"1\" class=\"dataframe\">\n",
       "  <thead>\n",
       "    <tr style=\"text-align: right;\">\n",
       "      <th></th>\n",
       "      <th>Original</th>\n",
       "      <th>Predicition</th>\n",
       "    </tr>\n",
       "  </thead>\n",
       "  <tbody>\n",
       "    <tr>\n",
       "      <th>0</th>\n",
       "      <td>1.904308e-14</td>\n",
       "      <td>-1.039808</td>\n",
       "    </tr>\n",
       "    <tr>\n",
       "      <th>1</th>\n",
       "      <td>-1.984952e+00</td>\n",
       "      <td>-2.165542</td>\n",
       "    </tr>\n",
       "    <tr>\n",
       "      <th>2</th>\n",
       "      <td>2.674457e-01</td>\n",
       "      <td>1.749715</td>\n",
       "    </tr>\n",
       "    <tr>\n",
       "      <th>3</th>\n",
       "      <td>2.167084e-01</td>\n",
       "      <td>0.623980</td>\n",
       "    </tr>\n",
       "    <tr>\n",
       "      <th>4</th>\n",
       "      <td>1.255978e+00</td>\n",
       "      <td>2.865524</td>\n",
       "    </tr>\n",
       "  </tbody>\n",
       "</table>\n",
       "</div>"
      ],
      "text/plain": [
       "       Original  Predicition\n",
       "0  1.904308e-14    -1.039808\n",
       "1 -1.984952e+00    -2.165542\n",
       "2  2.674457e-01     1.749715\n",
       "3  2.167084e-01     0.623980\n",
       "4  1.255978e+00     2.865524"
      ]
     },
     "execution_count": 15,
     "metadata": {},
     "output_type": "execute_result"
    }
   ],
   "source": [
    "# MULTIPLE VARIABLE LINEAR REGRESSION MODEL\n",
    "\n",
    "# References: https://towardsdatascience.com/simple-and-multiple-linear-regression-in-python-c928425168f9\n",
    "\n",
    "from sklearn import linear_model\n",
    "\n",
    "features = ['num_vehicles', 'charger_power', 'energy_vehicle', 'efficiency', 'avg_initial_energy']\n",
    "\n",
    "target = ['percentage_savings']\n",
    "\n",
    "# Separating out the features\n",
    "x = data.loc[:, features].values\n",
    "# Separating out the target\n",
    "y = data.loc[:,target].values\n",
    "\n",
    "lm = linear_model.LinearRegression()\n",
    "model = lm.fit(x,y)\n",
    "\n",
    "predictions = lm.predict(x)\n",
    "\n",
    "evalDF = data.loc[:,target]\n",
    "evalDF = evalDF.rename(columns={ \"percentage_savings\": \"Original\"})\n",
    "evalDF['Predicition']=predictions\n",
    "evalDF.head()"
   ]
  },
  {
   "cell_type": "code",
   "execution_count": 16,
   "metadata": {},
   "outputs": [
    {
     "name": "stdout",
     "output_type": "stream",
     "text": [
      "R2 square: 0.38801444353721815\n",
      "Intercept = [-45.35461337]\n",
      "Coefficients = [[ 8.75341643e-03  2.09989862e+02  7.41371616e+00  5.57904468e+01\n",
      "  -1.12573433e+01]]\n"
     ]
    }
   ],
   "source": [
    "# Evaluation of the model\n",
    "\n",
    "# R2 score: \n",
    "print(\"R2 square: \" + str(lm.score(x,y)))\n",
    "\n",
    "# Intercept\n",
    "print(\"Intercept = \" + str(lm.intercept_))\n",
    "\n",
    "# Coefficients\n",
    "print(\"Coefficients = \" + str(lm.coef_))\n"
   ]
  },
  {
   "cell_type": "code",
   "execution_count": 17,
   "metadata": {},
   "outputs": [
    {
     "data": {
      "text/plain": [
       "<matplotlib.collections.PathCollection at 0x7fa0e07cb898>"
      ]
     },
     "execution_count": 17,
     "metadata": {},
     "output_type": "execute_result"
    },
    {
     "data": {
      "image/png": "[encoded data removed]",
      "text/plain": [
       "<Figure size 432x288 with 1 Axes>"
      ]
     },
     "metadata": {
      "needs_background": "light"
     },
     "output_type": "display_data"
    }
   ],
   "source": [
    "# This should be a line with slope 1\n",
    "\n",
    "plt.scatter(x = evalDF['Original'],y = evalDF['Predicition'])"
   ]
  },
  {
   "cell_type": "code",
   "execution_count": null,
   "metadata": {},
   "outputs": [],
   "source": []
  }
 ],
 "metadata": {
  "kernelspec": {
   "display_name": "Python 3",
   "language": "python",
   "name": "python3"
  },
  "language_info": {
   "codemirror_mode": {
    "name": "ipython",
    "version": 3
   },
   "file_extension": ".py",
   "mimetype": "text/x-python",
   "name": "python",
   "nbconvert_exporter": "python",
   "pygments_lexer": "ipython3",
   "version": "3.7.3"
  }
 },
 "nbformat": 4,
 "nbformat_minor": 2
}
